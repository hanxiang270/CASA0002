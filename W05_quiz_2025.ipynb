{
  "cells": [
    {
      "cell_type": "markdown",
      "metadata": {
        "id": "view-in-github",
        "colab_type": "text"
      },
      "source": [
        "<a href=\"https://colab.research.google.com/github/hanxiang270/CASA0002/blob/main/W05_quiz_2025.ipynb\" target=\"_parent\"><img src=\"https://colab.research.google.com/assets/colab-badge.svg\" alt=\"Open In Colab\"/></a>"
      ]
    },
    {
      "cell_type": "markdown",
      "id": "0uOOJ-4J1yGS",
      "metadata": {
        "id": "0uOOJ-4J1yGS"
      },
      "source": [
        "# Week 5 Quiz\n",
        "\n",
        "This notebook contains the SQL Quiz for Week 5. Section 1 uses the New York City data we know and love. Section 2 will conduct a spatial damage assessment across the Gaza strip.\n",
        "\n",
        "### INSTRUCTIONS:\n",
        "\n",
        "Run this notebook in Google Colab. The answer to each quesiton will be a number or a string. Input these into the corresponding question on Moodle. You have 90 minutes to attempt the quiz, so if you get stuck on a question, move on.\n",
        "\n",
        "Make sure you run all of the cells of code in order. If you run into serious problems, try clicking on the \"runtime\" tab above and selecting \"restart session and run all\"."
      ]
    },
    {
      "cell_type": "markdown",
      "id": "oV3MzAJb1yGU",
      "metadata": {
        "id": "oV3MzAJb1yGU"
      },
      "source": [
        "# Section 1\n",
        "\n"
      ]
    },
    {
      "cell_type": "markdown",
      "id": "j9Eitay5ol_6",
      "metadata": {
        "id": "j9Eitay5ol_6"
      },
      "source": [
        "This URL: `https://s3.amazonaws.com/s3.cleverelephant.ca/postgis-workshop-2020.zip` points to a .zip file containing shapefiles associated with the NYC data that we've been using in class so far. You can choose how to use sql, either the `con.sql()` syntax or the `%%sql` syntax. Either way, use the code cell below to install and import the necessary packages."
      ]
    },
    {
      "cell_type": "code",
      "execution_count": null,
      "id": "77b72f0d",
      "metadata": {
        "id": "77b72f0d"
      },
      "outputs": [],
      "source": [
        "%pip install duckdb leafmap"
      ]
    },
    {
      "cell_type": "code",
      "source": [
        "import duckdb\n",
        "import leafmap\n",
        "import pandas as pd"
      ],
      "metadata": {
        "id": "PClmVtSKqH7X"
      },
      "id": "PClmVtSKqH7X",
      "execution_count": 2,
      "outputs": []
    },
    {
      "cell_type": "code",
      "source": [
        "con = duckdb.connect()\n",
        "\n",
        "con.install_extension(\"httpfs\")\n",
        "con.load_extension(\"httpfs\")\n",
        "\n",
        "con.install_extension(\"spatial\")\n",
        "con.load_extension(\"spatial\")"
      ],
      "metadata": {
        "id": "9vveMjIDqMev"
      },
      "id": "9vveMjIDqMev",
      "execution_count": 3,
      "outputs": []
    },
    {
      "cell_type": "code",
      "source": [
        "url = \"https://s3.amazonaws.com/s3.cleverelephant.ca/postgis-workshop-2020.zip\"\n",
        "leafmap.download_file(url, unzip=True)"
      ],
      "metadata": {
        "colab": {
          "base_uri": "https://localhost:8080/",
          "height": 53
        },
        "id": "kkqAG8ZlqUtT",
        "outputId": "67cbb443-8da1-4e2e-a029-ad6810ca9690"
      },
      "id": "kkqAG8ZlqUtT",
      "execution_count": 4,
      "outputs": [
        {
          "output_type": "stream",
          "name": "stdout",
          "text": [
            "postgis-workshop-2020.zip already exists. Skip downloading. Set overwrite=True to overwrite.\n"
          ]
        },
        {
          "output_type": "execute_result",
          "data": {
            "text/plain": [
              "'/content/postgis-workshop-2020.zip'"
            ],
            "application/vnd.google.colaboratory.intrinsic+json": {
              "type": "string"
            }
          },
          "metadata": {},
          "execution_count": 4
        }
      ]
    },
    {
      "cell_type": "code",
      "source": [
        "import zipfile\n",
        "import os\n",
        "\n",
        "zip_path = \"/content/postgis-workshop-2020.zip\"\n",
        "\n",
        "with zipfile.ZipFile(zip_path, 'r') as zip_ref:\n",
        "    file_list = zip_ref.namelist()\n",
        "print(\"Files inside the ZIP:\", file_list)\n"
      ],
      "metadata": {
        "colab": {
          "base_uri": "https://localhost:8080/"
        },
        "id": "cHAfUgXGrFOD",
        "outputId": "248542bd-f7d8-4b31-a7f6-f9b38f9a3f3e"
      },
      "id": "cHAfUgXGrFOD",
      "execution_count": 8,
      "outputs": [
        {
          "output_type": "stream",
          "name": "stdout",
          "text": [
            "Files inside the ZIP: ['postgis-workshop/', 'postgis-workshop/printing/', 'postgis-workshop/printing/nyc_data_dictionary.pdf', 'postgis-workshop/printing/postgis-workshop-exercises.docx', 'postgis-workshop/printing/postgis-workshop-exercises.pdf', 'postgis-workshop/printing/nyc_data_dictionary.docx', 'postgis-workshop/data/', 'postgis-workshop/data/nyc_homicides.dbf', 'postgis-workshop/data/nyc_neighborhoods.shx', 'postgis-workshop/data/nyc_neighborhoods.shp', 'postgis-workshop/data/nyc_census_blocks.shx', 'postgis-workshop/data/nyc_streets.prj', 'postgis-workshop/data/nyc_subway_stations.dbf', 'postgis-workshop/data/nyc_census_blocks.shp', 'postgis-workshop/data/nyc_subway_stations.shx', 'postgis-workshop/data/nyc_census_blocks.dbf', 'postgis-workshop/data/nyc_subway_stations.shp', 'postgis-workshop/data/nyc_neighborhoods.dbf', 'postgis-workshop/data/nyc_homicides.shx', 'postgis-workshop/data/nyc_census_sociodata.sql', 'postgis-workshop/data/2000/', 'postgis-workshop/data/2000/nyc_census_blocks_2000.prj', 'postgis-workshop/data/2000/nyc_census_blocks_2000.shx', 'postgis-workshop/data/2000/nyc_census_blocks_2000.shp', 'postgis-workshop/data/2000/nyc_census_blocks_2000.dbf', 'postgis-workshop/data/2000/nyc_census_sociodata_2000.sql', 'postgis-workshop/data/nyc_homicides.shp', 'postgis-workshop/data/nyc_neighborhoods.prj', 'postgis-workshop/data/nyc_streets.shp', 'postgis-workshop/data/nyc_census_blocks.prj', 'postgis-workshop/data/nyc_streets.shx', 'postgis-workshop/data/nyc_subway_stations.prj', 'postgis-workshop/data/nyc_streets.dbf', 'postgis-workshop/data/nyc_data.backup', 'postgis-workshop/data/nyc_homicides.prj']\n"
          ]
        }
      ]
    },
    {
      "cell_type": "markdown",
      "id": "418e28a1",
      "metadata": {
        "id": "418e28a1"
      },
      "source": [
        "## Question 1\n",
        "\n",
        "Firslty, please provide the link to your colab notebook in the Moodle quiz using the following steps:\n",
        "\n",
        "1. In the top right corner, click the \"share\" button\n",
        "2. In the popup, click on \"restricted\" and change this to \"anyone with the link\"\n",
        "3. Finally, click \"copy link\", and paste the link into the box for Question 1 on moodle.\n",
        "\n",
        "Once you've done this, download and unzip the data, then create the following tables using the corresponding shapefiles.\n",
        "\n",
        "- nyc_neighborhoods\n",
        "- nyc_census_blocks\n",
        "- nyc_homicides\n",
        "- nyc_streets\n",
        "- nyc_subway_stations"
      ]
    },
    {
      "cell_type": "code",
      "source": [
        "con.sql(\"\"\"\n",
        "\n",
        "CREATE TABLE nyc_neighborhoods AS SELECT * FROM ST_Read('postgis-workshop/data/nyc_neighborhoods.shp');\n",
        "CREATE TABLE nyc_census_blocks AS SELECT * FROM ST_Read('postgis-workshop/data/nyc_census_blocks.shp');\n",
        "CREATE TABLE nyc_homicides AS SELECT * FROM ST_Read('postgis-workshop/data/nyc_homicides.shp');\n",
        "CREATE TABLE nyc_streets AS SELECT * FROM ST_Read('postgis-workshop/data/nyc_streets.shp');\n",
        "CREATE TABLE nyc_subway_stations AS SELECT * FROM ST_Read('postgis-workshop/data/nyc_subway_stations.shp');\n",
        "\n",
        "\n",
        "\"\"\")"
      ],
      "metadata": {
        "id": "LV2AvKoirOfz"
      },
      "id": "LV2AvKoirOfz",
      "execution_count": 10,
      "outputs": []
    },
    {
      "cell_type": "markdown",
      "id": "cNYR7ht61yGV",
      "metadata": {
        "id": "cNYR7ht61yGV"
      },
      "source": [
        "## Question 2:\n",
        "What is the longest street in New York? Note, it may be split up into multiple segments! Ignore missing and null values.\n"
      ]
    },
    {
      "cell_type": "code",
      "execution_count": 13,
      "id": "h95FJaaD1yGV",
      "metadata": {
        "colab": {
          "base_uri": "https://localhost:8080/"
        },
        "id": "h95FJaaD1yGV",
        "outputId": "6d068382-460c-4ccb-84a2-5b4745007908"
      },
      "outputs": [
        {
          "output_type": "execute_result",
          "data": {
            "text/plain": [
              "┌─────────────────┬────────────────────┐\n",
              "│      NAME       │  st_length(geom)   │\n",
              "│     varchar     │       double       │\n",
              "├─────────────────┼────────────────────┤\n",
              "│ Leif Ericson Dr │ 14918.122617388475 │\n",
              "└─────────────────┴────────────────────┘"
            ]
          },
          "metadata": {},
          "execution_count": 13
        }
      ],
      "source": [
        "con.sql(\"\"\"\n",
        "\n",
        "SELECT name, ST_Length(geom)\n",
        "FROM nyc_streets\n",
        "ORDER BY ST_Length(geom)\n",
        "DESC LIMIT 1;\n",
        "\n",
        "\"\"\")"
      ]
    },
    {
      "cell_type": "markdown",
      "id": "BfjA1rkU1yGV",
      "metadata": {
        "id": "BfjA1rkU1yGV"
      },
      "source": [
        "## Question 3:\n",
        "\n",
        "Which borough had the fewest daytime shootings in 2009?"
      ]
    },
    {
      "cell_type": "code",
      "source": [
        "con.sql(\"\"\"\n",
        "\n",
        "PRAGMA table_info(nyc_homicides);\n",
        "\n",
        "\"\"\")"
      ],
      "metadata": {
        "colab": {
          "base_uri": "https://localhost:8080/"
        },
        "id": "OJHsQPmksYy0",
        "outputId": "7179462c-6657-4048-9b4b-ec9daf03cb74"
      },
      "id": "OJHsQPmksYy0",
      "execution_count": 14,
      "outputs": [
        {
          "output_type": "execute_result",
          "data": {
            "text/plain": [
              "┌───────┬────────────┬──────────┬─────────┬────────────┬─────────┐\n",
              "│  cid  │    name    │   type   │ notnull │ dflt_value │   pk    │\n",
              "│ int32 │  varchar   │ varchar  │ boolean │  varchar   │ boolean │\n",
              "├───────┼────────────┼──────────┼─────────┼────────────┼─────────┤\n",
              "│     0 │ INCIDENT_D │ DATE     │ false   │ NULL       │ false   │\n",
              "│     1 │ BORONAME   │ VARCHAR  │ false   │ NULL       │ false   │\n",
              "│     2 │ NUM_VICTIM │ VARCHAR  │ false   │ NULL       │ false   │\n",
              "│     3 │ PRIMARY_MO │ VARCHAR  │ false   │ NULL       │ false   │\n",
              "│     4 │ ID         │ BIGINT   │ false   │ NULL       │ false   │\n",
              "│     5 │ WEAPON     │ VARCHAR  │ false   │ NULL       │ false   │\n",
              "│     6 │ LIGHT_DARK │ VARCHAR  │ false   │ NULL       │ false   │\n",
              "│     7 │ YEAR       │ BIGINT   │ false   │ NULL       │ false   │\n",
              "│     8 │ geom       │ GEOMETRY │ false   │ NULL       │ false   │\n",
              "└───────┴────────────┴──────────┴─────────┴────────────┴─────────┘"
            ]
          },
          "metadata": {},
          "execution_count": 14
        }
      ]
    },
    {
      "cell_type": "code",
      "source": [
        "con.sql(\"\"\"\n",
        "\n",
        "FROM nyc_homicides;\n",
        "\n",
        "\"\"\")"
      ],
      "metadata": {
        "colab": {
          "base_uri": "https://localhost:8080/"
        },
        "id": "NwPOAs7ss-6_",
        "outputId": "12bfe333-ea92-4a99-dbbe-4af6fad12eec"
      },
      "id": "NwPOAs7ss-6_",
      "execution_count": 17,
      "outputs": [
        {
          "output_type": "execute_result",
          "data": {
            "text/plain": [
              "┌────────────┬───────────────┬────────────┬────────────┬───────┬─────────┬────────────┬───────┬──────────────────────────────────────────────┐\n",
              "│ INCIDENT_D │   BORONAME    │ NUM_VICTIM │ PRIMARY_MO │  ID   │ WEAPON  │ LIGHT_DARK │ YEAR  │                     geom                     │\n",
              "│    date    │    varchar    │  varchar   │  varchar   │ int64 │ varchar │  varchar   │ int64 │                   geometry                   │\n",
              "├────────────┼───────────────┼────────────┼────────────┼───────┼─────────┼────────────┼───────┼──────────────────────────────────────────────┤\n",
              "│ 2008-01-01 │ Brooklyn      │ 1          │ NULL       │     7 │ gun     │ D          │  2008 │ POINT (592158.6657641566 4502210.892367315)  │\n",
              "│ 2008-01-04 │ Manhattan     │ 1          │ NULL       │    14 │ gun     │ D          │  2008 │ POINT (588654.9516122746 4517855.382656676)  │\n",
              "│ 2008-01-05 │ Queens        │ 1          │ NULL       │    15 │ gun     │ D          │  2008 │ POINT (605800.8150245796 4505730.608395767)  │\n",
              "│ 2008-01-04 │ Queens        │ 1          │ NULL       │    16 │ knife   │ D          │  2008 │ POINT (594255.1571757384 4512250.378115875)  │\n",
              "│ 2008-01-05 │ Queens        │ 1          │ NULL       │    18 │ gun     │ D          │  2008 │ POINT (605498.1350349792 4496052.6404242935) │\n",
              "│ 2008-01-07 │ Brooklyn      │ 1          │ NULL       │    20 │ gun     │ D          │  2008 │ POINT (592020.9986062422 4505733.647394002)  │\n",
              "│ 2008-01-10 │ Manhattan     │ 1          │ NULL       │    22 │ gun     │ D          │  2008 │ POINT (584055.5176806634 4511774.7240870865) │\n",
              "│ 2008-01-10 │ Manhattan     │ 1          │ NULL       │    23 │ gun     │ D          │  2008 │ POINT (587283.7480292964 4516908.389954502)  │\n",
              "│ 2008-01-13 │ Staten Island │ 1          │ NULL       │    25 │ gun     │ D          │  2008 │ POINT (570593.1246245154 4498222.780018244)  │\n",
              "│ 2008-01-16 │ Queens        │ 1          │ NULL       │    27 │ gun     │ D          │  2008 │ POINT (607385.9693839889 4501506.717170785)  │\n",
              "│     ·      │   ·           │ ·          │  ·         │     · │  ·      │ ·          │    ·  │                      ·                       │\n",
              "│     ·      │   ·           │ ·          │  ·         │     · │  ·      │ ·          │    ·  │                      ·                       │\n",
              "│     ·      │   ·           │ ·          │  ·         │     · │  ·      │ ·          │    ·  │                      ·                       │\n",
              "│ 2010-10-26 │ The Bronx     │ 1          │ NULL       │  4252 │ knife   │ NULL       │  2010 │ POINT (592570.4068967762 4518519.960392341)  │\n",
              "│ 2010-10-24 │ The Bronx     │ 1          │ NULL       │  4253 │ NULL    │ NULL       │  2010 │ POINT (592289.2525188073 4520907.942087955)  │\n",
              "│ 2010-10-23 │ The Bronx     │ 1          │ NULL       │  4258 │ gun     │ NULL       │  2010 │ POINT (595691.929813581 4525486.773996004)   │\n",
              "│ 2010-07-05 │ The Bronx     │ 1          │ NULL       │  4260 │ NULL    │ NULL       │  2011 │ POINT (591908.9889569259 4520517.284502078)  │\n",
              "│ 2010-10-17 │ The Bronx     │ 1          │ NULL       │  4263 │ knife   │ NULL       │  2010 │ POINT (591526.0795441027 4518120.5985546755) │\n",
              "│ 2010-10-11 │ The Bronx     │ 1          │ NULL       │  4269 │ gun     │ NULL       │  2010 │ POINT (592515.9578506276 4523492.764356317)  │\n",
              "│ 2010-10-06 │ The Bronx     │ 1          │ NULL       │  4271 │ knife   │ NULL       │  2010 │ POINT (594347.5429990037 4522235.809302402)  │\n",
              "│ 2011-07-26 │ The Bronx     │ 1          │ NULL       │  4282 │ gun     │ NULL       │  2011 │ POINT (592849.08922107 4522545.555276063)    │\n",
              "│ 2011-07-28 │ The Bronx     │ 1          │ NULL       │  4284 │ gun     │ NULL       │  2011 │ POINT (596872.5868381617 4528682.876480885)  │\n",
              "│ 2011-08-01 │ The Bronx     │ 1          │ NULL       │  4291 │ gun     │ NULL       │  2011 │ POINT (591083.4961042595 4519237.413713751)  │\n",
              "├────────────┴───────────────┴────────────┴────────────┴───────┴─────────┴────────────┴───────┴──────────────────────────────────────────────┤\n",
              "│ 3984 rows (20 shown)                                                                                                             9 columns │\n",
              "└────────────────────────────────────────────────────────────────────────────────────────────────────────────────────────────────────────────┘"
            ]
          },
          "metadata": {},
          "execution_count": 17
        }
      ]
    },
    {
      "cell_type": "code",
      "source": [
        "con.sql(\"\"\"\n",
        "\n",
        "SELECT DISTINCT WEAPON\n",
        "FROM nyc_homicides;\n",
        "\n",
        "\"\"\")"
      ],
      "metadata": {
        "colab": {
          "base_uri": "https://localhost:8080/"
        },
        "id": "eHhSVs4vtTOx",
        "outputId": "e3b144b6-b4d0-4dcb-d6a2-d31c95d84e7a"
      },
      "id": "eHhSVs4vtTOx",
      "execution_count": 18,
      "outputs": [
        {
          "output_type": "execute_result",
          "data": {
            "text/plain": [
              "┌──────────────────┐\n",
              "│      WEAPON      │\n",
              "│     varchar      │\n",
              "├──────────────────┤\n",
              "│ gun              │\n",
              "│ knife            │\n",
              "│ NULL             │\n",
              "│ other            │\n",
              "│ blunt_instrument │\n",
              "└──────────────────┘"
            ]
          },
          "metadata": {},
          "execution_count": 18
        }
      ]
    },
    {
      "cell_type": "code",
      "execution_count": 19,
      "id": "OMu1B0Nq1yGV",
      "metadata": {
        "colab": {
          "base_uri": "https://localhost:8080/"
        },
        "id": "OMu1B0Nq1yGV",
        "outputId": "2ccd18ca-7bb1-48c4-8c47-8b662a1e31e3"
      },
      "outputs": [
        {
          "output_type": "execute_result",
          "data": {
            "text/plain": [
              "┌───────────────┬────────────────┐\n",
              "│   BORONAME    │ shooting_count │\n",
              "│    varchar    │     int64      │\n",
              "├───────────────┼────────────────┤\n",
              "│ Staten Island │              6 │\n",
              "│ Manhattan     │             12 │\n",
              "│ Queens        │             18 │\n",
              "│ The Bronx     │             44 │\n",
              "│ Brooklyn      │             61 │\n",
              "└───────────────┴────────────────┘"
            ]
          },
          "metadata": {},
          "execution_count": 19
        }
      ],
      "source": [
        "con.sql(\"\"\"\n",
        "\n",
        "SELECT BORONAME, COUNT(*) AS shooting_count\n",
        "FROM nyc_homicides\n",
        "WHERE YEAR = '2009'\n",
        "AND \"WEAPON\" = 'gun'\n",
        "AND \"LIGHT_DARK\" = 'D'\n",
        "GROUP BY BORONAME\n",
        "ORDER BY shooting_count ASC;\n",
        "\n",
        "\"\"\")"
      ]
    },
    {
      "cell_type": "markdown",
      "id": "ayFuut_v8DIJ",
      "metadata": {
        "id": "ayFuut_v8DIJ"
      },
      "source": [
        "## Question 4:\n",
        "\n",
        "What is the total population of the census blocks served by the L train?"
      ]
    },
    {
      "cell_type": "code",
      "execution_count": 20,
      "id": "V8JPo3Ab1yGV",
      "metadata": {
        "colab": {
          "base_uri": "https://localhost:8080/"
        },
        "id": "V8JPo3Ab1yGV",
        "outputId": "f921408e-34a6-4901-bae1-776bd0e1d4b8"
      },
      "outputs": [
        {
          "output_type": "execute_result",
          "data": {
            "text/plain": [
              "┌────────────┐\n",
              "│ popn_total │\n",
              "│   int128   │\n",
              "├────────────┤\n",
              "│     110118 │\n",
              "└────────────┘"
            ]
          },
          "metadata": {},
          "execution_count": 20
        }
      ],
      "source": [
        "con.sql(\"\"\"\n",
        "\n",
        "SELECT\n",
        "SUM(popn_total) AS popn_total\n",
        "FROM nyc_census_blocks AS c\n",
        "JOIN nyc_subway_stations AS s\n",
        "ON ST_DWithin(\n",
        "  c.geom,\n",
        "  s.geom,\n",
        "  200\n",
        "  )\n",
        "\n",
        "WHERE strpos(s.routes,'L') > 0;\n",
        "\n",
        "\"\"\")"
      ]
    },
    {
      "cell_type": "markdown",
      "id": "bI-t4ks380wI",
      "metadata": {
        "id": "bI-t4ks380wI"
      },
      "source": [
        "## Question 5\n",
        "\n",
        "which subway station had the largest number of homicides within 1km?"
      ]
    },
    {
      "cell_type": "code",
      "execution_count": 21,
      "id": "uOsz1fQO9PIf",
      "metadata": {
        "colab": {
          "base_uri": "https://localhost:8080/"
        },
        "id": "uOsz1fQO9PIf",
        "outputId": "99cace07-51c9-4427-f0c9-236f6809c5a3"
      },
      "outputs": [
        {
          "output_type": "execute_result",
          "data": {
            "text/plain": [
              "┌─────────────────┬────────────────┐\n",
              "│      NAME       │ homicide_count │\n",
              "│     varchar     │     int64      │\n",
              "├─────────────────┼────────────────┤\n",
              "│ 125th St        │            305 │\n",
              "│ 116th St        │            261 │\n",
              "│ Franklin Ave    │            251 │\n",
              "│ 145th St        │            246 │\n",
              "│ 170th St        │            214 │\n",
              "│ Utica Ave       │            213 │\n",
              "│ Sutter Ave      │            208 │\n",
              "│ 135th St        │            208 │\n",
              "│ Myrtle Ave      │            206 │\n",
              "│ Broadway Jct    │            204 │\n",
              "│      ·          │              · │\n",
              "│      ·          │              · │\n",
              "│      ·          │              · │\n",
              "│ Broad Channel   │              1 │\n",
              "│ Richmond Valley │              1 │\n",
              "│ Tottenville     │              1 │\n",
              "│ Annadale        │              1 │\n",
              "│ Rockaway Park   │              1 │\n",
              "│ Atlantic        │              1 │\n",
              "│ Huguenot        │              1 │\n",
              "│ Nassau          │              1 │\n",
              "│ Oakwood Heights │              1 │\n",
              "│ Prince's Bay    │              1 │\n",
              "├─────────────────┴────────────────┤\n",
              "│ 347 rows (20 shown)    2 columns │\n",
              "└──────────────────────────────────┘"
            ]
          },
          "metadata": {},
          "execution_count": 21
        }
      ],
      "source": [
        "con.sql(\"\"\"\n",
        "\n",
        "SELECT s.name, COUNT(*) AS homicide_count\n",
        "FROM nyc_homicides AS h\n",
        "JOIN nyc_subway_stations AS s\n",
        "ON ST_DWithin(\n",
        "  h.geom,\n",
        "  s.geom,\n",
        "  1000\n",
        "  )\n",
        "GROUP BY s.name\n",
        "ORDER BY homicide_count DESC;\n",
        "\n",
        "\"\"\")"
      ]
    },
    {
      "cell_type": "markdown",
      "id": "zBfMLOCVBuqP",
      "metadata": {
        "id": "zBfMLOCVBuqP"
      },
      "source": [
        "# Section 2\n",
        "\n",
        "This section explores building damage in the Gaza Strip resulting from the ongoing war. You will conduct a geospatial analysis of building damage using two datasets:\n",
        "\n",
        "1. [Humantiarian Open Street Map](https://www.hotosm.org/projects/gaza-building-footprints-pre-conflict-update-2024/) building footprints for the Gaza Strip\n",
        "  * data: https://storage.googleapis.com/qm2/Gaza_Buildings_2.geojson.zip\n",
        "2. [Damage points](https://unosat.org/products/3984) from the UN Satellite Agency (UNOSAT).\n",
        "  * data: https://storage.googleapis.com/qm2/UNOSAT_GAZA_20240503_2.zip\n",
        "\n",
        "\n",
        "The Coordinate Reference System of these datasets is EPSG:4326; therefore, stock functions like ST_DISTANCE() will yield values in degrees, not meters. Be mindful of this in your analysis, and use the DuckDB spatial functions [documentation](https://duckdb.org/docs/extensions/spatial/functions#st_geomfromtext) to your advantage.\n",
        "\n",
        "\n",
        "First, download and unzip the data, and create two tables: `gaza_buildings`, containing the building footprint data, and `damage_points` containing the UNOSAT damage points. Make sure to set a spatial index on these tables, this will make your queries run much faster!"
      ]
    },
    {
      "cell_type": "markdown",
      "source": [
        "### **Table 1**"
      ],
      "metadata": {
        "id": "zRxAEOQMvid_"
      },
      "id": "zRxAEOQMvid_"
    },
    {
      "cell_type": "code",
      "execution_count": 22,
      "id": "S1OUqcmhnRxQ",
      "metadata": {
        "colab": {
          "base_uri": "https://localhost:8080/",
          "height": 125
        },
        "id": "S1OUqcmhnRxQ",
        "outputId": "7e98d40c-f59e-4fb4-e953-8a840dc1b995"
      },
      "outputs": [
        {
          "output_type": "stream",
          "name": "stderr",
          "text": [
            "Downloading...\n",
            "From: https://storage.googleapis.com/qm2/Gaza_Buildings_2.geojson.zip\n",
            "To: /content/Gaza_Buildings_2.geojson.zip\n",
            "100%|██████████| 15.0M/15.0M [00:00<00:00, 57.2MB/s]\n"
          ]
        },
        {
          "output_type": "stream",
          "name": "stdout",
          "text": [
            "Extracting files...\n"
          ]
        },
        {
          "output_type": "execute_result",
          "data": {
            "text/plain": [
              "'/content/Gaza_Buildings_2.geojson.zip'"
            ],
            "application/vnd.google.colaboratory.intrinsic+json": {
              "type": "string"
            }
          },
          "metadata": {},
          "execution_count": 22
        }
      ],
      "source": [
        "url = \"https://storage.googleapis.com/qm2/Gaza_Buildings_2.geojson.zip\"\n",
        "leafmap.download_file(url, unzip=True)"
      ]
    },
    {
      "cell_type": "code",
      "source": [
        "con.sql(\"CREATE TABLE gaza_buildings AS SELECT * FROM ST_Read('Gaza_Buildings_2.geojson')\")"
      ],
      "metadata": {
        "id": "a1LBOyhcvh-5",
        "outputId": "588a8c36-3b1d-47dc-b1e2-6cc50fc7cd4f",
        "colab": {
          "base_uri": "https://localhost:8080/",
          "height": 49,
          "referenced_widgets": [
            "089b0edac7924e44b26aea7f9c06fbf9",
            "9b9956eac46e4ad0b27064e8dac24529",
            "4b46796837fc42f983704a7781d09fe4"
          ]
        }
      },
      "id": "a1LBOyhcvh-5",
      "execution_count": 23,
      "outputs": [
        {
          "output_type": "display_data",
          "data": {
            "text/plain": [
              "FloatProgress(value=0.0, layout=Layout(width='auto'), style=ProgressStyle(bar_color='black'))"
            ],
            "application/vnd.jupyter.widget-view+json": {
              "version_major": 2,
              "version_minor": 0,
              "model_id": "089b0edac7924e44b26aea7f9c06fbf9"
            }
          },
          "metadata": {
            "application/vnd.jupyter.widget-view+json": {
              "colab": {
                "custom_widget_manager": {
                  "url": "https://ssl.gstatic.com/colaboratory-static/widgets/colab-cdn-widget-manager/2b70e893a8ba7c0f/manager.min.js"
                }
              }
            }
          }
        }
      ]
    },
    {
      "cell_type": "code",
      "source": [
        "con.sql(\"\"\"\n",
        "\n",
        "CREATE INDEX gaza_buildings_geom_idx\n",
        "ON gaza_buildings USING Rtree (geom);\n",
        "\n",
        "\"\"\")"
      ],
      "metadata": {
        "id": "JNX_gQoqv_1M"
      },
      "id": "JNX_gQoqv_1M",
      "execution_count": 24,
      "outputs": []
    },
    {
      "cell_type": "markdown",
      "source": [
        "### **Table 2**"
      ],
      "metadata": {
        "id": "sTrHNcS-wFxw"
      },
      "id": "sTrHNcS-wFxw"
    },
    {
      "cell_type": "code",
      "source": [
        "url2 = \"https://storage.googleapis.com/qm2/UNOSAT_GAZA_20240503_2.zip\"\n",
        "leafmap.download_file(url2, unzip=True)"
      ],
      "metadata": {
        "id": "s6X5tOLUwH6V",
        "outputId": "ecfb8cf4-0da5-4d23-9837-c59cf6c9f2ea",
        "colab": {
          "base_uri": "https://localhost:8080/",
          "height": 125
        }
      },
      "id": "s6X5tOLUwH6V",
      "execution_count": 25,
      "outputs": [
        {
          "output_type": "stream",
          "name": "stderr",
          "text": [
            "Downloading...\n",
            "From: https://storage.googleapis.com/qm2/UNOSAT_GAZA_20240503_2.zip\n",
            "To: /content/UNOSAT_GAZA_20240503_2.zip\n",
            "100%|██████████| 4.98M/4.98M [00:00<00:00, 141MB/s]\n"
          ]
        },
        {
          "output_type": "stream",
          "name": "stdout",
          "text": [
            "Extracting files...\n"
          ]
        },
        {
          "output_type": "execute_result",
          "data": {
            "text/plain": [
              "'/content/UNOSAT_GAZA_20240503_2.zip'"
            ],
            "application/vnd.google.colaboratory.intrinsic+json": {
              "type": "string"
            }
          },
          "metadata": {},
          "execution_count": 25
        }
      ]
    },
    {
      "cell_type": "code",
      "source": [
        "zip_path_2 = \"/content/UNOSAT_GAZA_20240503_2.zip\"\n",
        "\n",
        "with zipfile.ZipFile(zip_path_2, 'r') as zip_ref:\n",
        "    file_list = zip_ref.namelist()\n",
        "print(\"Files inside the ZIP:\", file_list)"
      ],
      "metadata": {
        "id": "3OXueG9_wuET",
        "outputId": "45825b31-d394-4a44-e796-122c165d92c6",
        "colab": {
          "base_uri": "https://localhost:8080/"
        }
      },
      "id": "3OXueG9_wuET",
      "execution_count": 27,
      "outputs": [
        {
          "output_type": "stream",
          "name": "stdout",
          "text": [
            "Files inside the ZIP: ['UNOSAT_GAZA_20240503_2.shp', 'UNOSAT_GAZA_20240503_2.prj', 'UNOSAT_GAZA_20240503_2.cpg', 'UNOSAT_GAZA_20240503_2.dbf', 'UNOSAT_GAZA_20240503_2.shx']\n"
          ]
        }
      ]
    },
    {
      "cell_type": "code",
      "source": [
        "con.sql(\"\"\"\n",
        "\n",
        "CREATE TABLE damage_points AS SELECT * FROM ST_Read('UNOSAT_GAZA_20240503_2.shp');\n",
        "\n",
        "\"\"\")"
      ],
      "metadata": {
        "id": "B--_Qswpw4Sn"
      },
      "id": "B--_Qswpw4Sn",
      "execution_count": 28,
      "outputs": []
    },
    {
      "cell_type": "code",
      "source": [
        "con.sql(\"\"\"\n",
        "\n",
        "CREATE INDEX damage_points_geom_idx\n",
        "ON damage_points USING Rtree (geom);\n",
        "\n",
        "\"\"\")"
      ],
      "metadata": {
        "id": "IJXfwO9wxHxk"
      },
      "id": "IJXfwO9wxHxk",
      "execution_count": 29,
      "outputs": []
    },
    {
      "cell_type": "markdown",
      "id": "R91M8AllIBHG",
      "metadata": {
        "id": "R91M8AllIBHG"
      },
      "source": [
        "## Question 6\n",
        "\n",
        "Create a table called \"gaza_buildings_damaged\" which is comprised only of building footprints that intersect with a UNOSAT damage point. How many damaged buildings are there in Gaza?"
      ]
    },
    {
      "cell_type": "code",
      "source": [
        "con.sql(\"\"\"\n",
        "\n",
        "PRAGMA table_info(gaza_buildings);\n",
        "\n",
        "\"\"\")"
      ],
      "metadata": {
        "id": "YrUHRh2UxZVU",
        "outputId": "ed06d5b6-37eb-4894-eaf0-9f47085eaef1",
        "colab": {
          "base_uri": "https://localhost:8080/"
        }
      },
      "id": "YrUHRh2UxZVU",
      "execution_count": 31,
      "outputs": [
        {
          "output_type": "execute_result",
          "data": {
            "text/plain": [
              "┌───────┬──────────┬──────────┬─────────┬────────────┬─────────┐\n",
              "│  cid  │   name   │   type   │ notnull │ dflt_value │   pk    │\n",
              "│ int32 │ varchar  │ varchar  │ boolean │  varchar   │ boolean │\n",
              "├───────┼──────────┼──────────┼─────────┼────────────┼─────────┤\n",
              "│     0 │ osm_id   │ INTEGER  │ false   │ NULL       │ false   │\n",
              "│     1 │ osm_type │ VARCHAR  │ false   │ NULL       │ false   │\n",
              "│     2 │ building │ VARCHAR  │ false   │ NULL       │ false   │\n",
              "│     3 │ name     │ VARCHAR  │ false   │ NULL       │ false   │\n",
              "│     4 │ geom     │ GEOMETRY │ false   │ NULL       │ false   │\n",
              "└───────┴──────────┴──────────┴─────────┴────────────┴─────────┘"
            ]
          },
          "metadata": {},
          "execution_count": 31
        }
      ]
    },
    {
      "cell_type": "code",
      "source": [
        "con.sql(\"\"\"\n",
        "\n",
        "SELECT DISTINCT building\n",
        "FROM gaza_buildings;\n",
        "\n",
        "\"\"\")"
      ],
      "metadata": {
        "id": "I-M4kuNVzEZk",
        "outputId": "69fe7c46-ab7c-4ba9-bd23-da81fa485e61",
        "colab": {
          "base_uri": "https://localhost:8080/"
        }
      },
      "id": "I-M4kuNVzEZk",
      "execution_count": 37,
      "outputs": [
        {
          "output_type": "execute_result",
          "data": {
            "text/plain": [
              "┌─────────────────────────┐\n",
              "│        building         │\n",
              "│         varchar         │\n",
              "├─────────────────────────┤\n",
              "│ mosque                  │\n",
              "│ residential             │\n",
              "│ commercial              │\n",
              "│ house                   │\n",
              "│ school                  │\n",
              "│ roof                    │\n",
              "│ destroyed               │\n",
              "│ garage                  │\n",
              "│ college                 │\n",
              "│ retail                  │\n",
              "│   ·                     │\n",
              "│   ·                     │\n",
              "│   ·                     │\n",
              "│ hangar                  │\n",
              "│ greengrocer             │\n",
              "│ hotel                   │\n",
              "│ farm                    │\n",
              "│ religious               │\n",
              "│ yes;commercial          │\n",
              "│ greenhouse_horticulture │\n",
              "│ yes;hospital            │\n",
              "│ water_tower             │\n",
              "│ G                       │\n",
              "├─────────────────────────┤\n",
              "│   44 rows (20 shown)    │\n",
              "└─────────────────────────┘"
            ]
          },
          "metadata": {},
          "execution_count": 37
        }
      ]
    },
    {
      "cell_type": "code",
      "source": [
        "con.sql(\"\"\"\n",
        "\n",
        "PRAGMA table_info(damage_points);\n",
        "\n",
        "\"\"\")"
      ],
      "metadata": {
        "id": "KL7LG0n_xfOS",
        "outputId": "c65f3b51-e386-49e8-c0f4-a4e18e1fb67a",
        "colab": {
          "base_uri": "https://localhost:8080/"
        }
      },
      "id": "KL7LG0n_xfOS",
      "execution_count": 32,
      "outputs": [
        {
          "output_type": "execute_result",
          "data": {
            "text/plain": [
              "┌───────┬────────────┬──────────┬─────────┬────────────┬─────────┐\n",
              "│  cid  │    name    │   type   │ notnull │ dflt_value │   pk    │\n",
              "│ int32 │  varchar   │ varchar  │ boolean │  varchar   │ boolean │\n",
              "├───────┼────────────┼──────────┼─────────┼────────────┼─────────┤\n",
              "│     0 │ OBJECTID   │ DOUBLE   │ false   │ NULL       │ false   │\n",
              "│     1 │ SiteID     │ BIGINT   │ false   │ NULL       │ false   │\n",
              "│     2 │ SensorDate │ VARCHAR  │ false   │ NULL       │ false   │\n",
              "│     3 │ SensorID   │ BIGINT   │ false   │ NULL       │ false   │\n",
              "│     4 │ Confidence │ BIGINT   │ false   │ NULL       │ false   │\n",
              "│     5 │ Main_Damag │ BIGINT   │ false   │ NULL       │ false   │\n",
              "│     6 │ SensorDa_1 │ VARCHAR  │ false   │ NULL       │ false   │\n",
              "│     7 │ SensorID_2 │ BIGINT   │ false   │ NULL       │ false   │\n",
              "│     8 │ Confiden_1 │ BIGINT   │ false   │ NULL       │ false   │\n",
              "│     9 │ Main_Dam_1 │ BIGINT   │ false   │ NULL       │ false   │\n",
              "│     · │     ·      │   ·      │   ·     │  ·         │   ·     │\n",
              "│     · │     ·      │   ·      │   ·     │  ·         │   ·     │\n",
              "│     · │     ·      │   ·      │   ·     │  ·         │   ·     │\n",
              "│    35 │ Damage_S_5 │ BIGINT   │ false   │ NULL       │ false   │\n",
              "│    36 │ Grouped_Da │ BIGINT   │ false   │ NULL       │ false   │\n",
              "│    37 │ FieldValid │ BIGINT   │ false   │ NULL       │ false   │\n",
              "│    38 │ Notes      │ VARCHAR  │ false   │ NULL       │ false   │\n",
              "│    39 │ Territory  │ VARCHAR  │ false   │ NULL       │ false   │\n",
              "│    40 │ Governorat │ VARCHAR  │ false   │ NULL       │ false   │\n",
              "│    41 │ Municipali │ VARCHAR  │ false   │ NULL       │ false   │\n",
              "│    42 │ Neighborho │ VARCHAR  │ false   │ NULL       │ false   │\n",
              "│    43 │ EventCode  │ VARCHAR  │ false   │ NULL       │ false   │\n",
              "│    44 │ geom       │ GEOMETRY │ false   │ NULL       │ false   │\n",
              "├───────┴────────────┴──────────┴─────────┴────────────┴─────────┤\n",
              "│ 45 rows (20 shown)                                   6 columns │\n",
              "└────────────────────────────────────────────────────────────────┘"
            ]
          },
          "metadata": {},
          "execution_count": 32
        }
      ]
    },
    {
      "cell_type": "code",
      "execution_count": 45,
      "id": "B5mc7JSMCnbs",
      "metadata": {
        "colab": {
          "base_uri": "https://localhost:8080/",
          "height": 49,
          "referenced_widgets": [
            "c84ddf04666849ae93fefa737940ffe7",
            "fa70bcd9e5b74c45823562c9fc56fff4",
            "29fb9763b45c419e8ae403b5ebde07d9"
          ]
        },
        "id": "B5mc7JSMCnbs",
        "outputId": "5495f392-ea90-44d8-ff27-fedae8b57e4d"
      },
      "outputs": [
        {
          "output_type": "display_data",
          "data": {
            "text/plain": [
              "FloatProgress(value=0.0, layout=Layout(width='auto'), style=ProgressStyle(bar_color='black'))"
            ],
            "application/vnd.jupyter.widget-view+json": {
              "version_major": 2,
              "version_minor": 0,
              "model_id": "c84ddf04666849ae93fefa737940ffe7"
            }
          },
          "metadata": {
            "application/vnd.jupyter.widget-view+json": {
              "colab": {
                "custom_widget_manager": {
                  "url": "https://ssl.gstatic.com/colaboratory-static/widgets/colab-cdn-widget-manager/2b70e893a8ba7c0f/manager.min.js"
                }
              }
            }
          }
        }
      ],
      "source": [
        "con.sql(\"\"\"\n",
        "\n",
        "CREATE TABLE gaza_buildings_damaged_2 AS\n",
        "SELECT *\n",
        "FROM gaza_buildings AS b\n",
        "JOIN damage_points AS d\n",
        "ON ST_Intersects(b.geom, d.geom);\n",
        "\n",
        "\"\"\")"
      ]
    },
    {
      "cell_type": "code",
      "source": [
        "con.sql(\"\"\"\n",
        "SELECT COUNT(*)\n",
        "FROM gaza_buildings_damaged_2;\n",
        "\n",
        "\"\"\")"
      ],
      "metadata": {
        "id": "Td_sBSsY0kuH",
        "outputId": "44ce10f4-02eb-488a-d406-fa5ae6265e5d",
        "colab": {
          "base_uri": "https://localhost:8080/"
        }
      },
      "id": "Td_sBSsY0kuH",
      "execution_count": 46,
      "outputs": [
        {
          "output_type": "execute_result",
          "data": {
            "text/plain": [
              "┌──────────────┐\n",
              "│ count_star() │\n",
              "│    int64     │\n",
              "├──────────────┤\n",
              "│       109495 │\n",
              "└──────────────┘"
            ]
          },
          "metadata": {},
          "execution_count": 46
        }
      ]
    },
    {
      "cell_type": "markdown",
      "id": "ErOTse1wxPcC",
      "metadata": {
        "id": "ErOTse1wxPcC"
      },
      "source": [
        "## Question 7\n",
        "\n",
        "What is the total area (in square kilometers) of damaged buildings in Gaza? note: there are TWO area functions in duckDB, and only one of them returns answers in meters."
      ]
    },
    {
      "cell_type": "code",
      "source": [
        "con.sql(\"\"\"\n",
        "\n",
        "SELECT SUM(ST_Area_Spheroid(geom)) / 1e6 AS total_area_km2\n",
        "FROM gaza_buildings_damaged_2;\n",
        "\n",
        "\n",
        "\"\"\")"
      ],
      "metadata": {
        "id": "z06LIDHu0EVn",
        "outputId": "579dbe85-dc39-477b-e169-09c200ee7ee6",
        "colab": {
          "base_uri": "https://localhost:8080/"
        }
      },
      "id": "z06LIDHu0EVn",
      "execution_count": 49,
      "outputs": [
        {
          "output_type": "execute_result",
          "data": {
            "text/plain": [
              "┌────────────────────┐\n",
              "│   total_area_km2   │\n",
              "│       double       │\n",
              "├────────────────────┤\n",
              "│ 22.571649256731085 │\n",
              "└────────────────────┘"
            ]
          },
          "metadata": {},
          "execution_count": 49
        }
      ]
    },
    {
      "cell_type": "markdown",
      "id": "R4R_j5w2Jk6w",
      "metadata": {
        "id": "R4R_j5w2Jk6w"
      },
      "source": [
        "## Question 8\n",
        "\n",
        "What percentage of hospitals in Gaza have been damaged?\n"
      ]
    },
    {
      "cell_type": "code",
      "source": [
        "con.sql(\"\"\"\n",
        "\n",
        "SELECT COUNT(*) AS num_hospitals\n",
        "FROM gaza_buildings\n",
        "WHERE building = 'hospital';\n",
        "\n",
        "\"\"\")"
      ],
      "metadata": {
        "id": "7ahh_BMyzb2M",
        "outputId": "6c73be44-60a5-440f-921d-685ffa07cb17",
        "colab": {
          "base_uri": "https://localhost:8080/"
        }
      },
      "id": "7ahh_BMyzb2M",
      "execution_count": 39,
      "outputs": [
        {
          "output_type": "execute_result",
          "data": {
            "text/plain": [
              "┌───────────────┐\n",
              "│ num_hospitals │\n",
              "│     int64     │\n",
              "├───────────────┤\n",
              "│            52 │\n",
              "└───────────────┘"
            ]
          },
          "metadata": {},
          "execution_count": 39
        }
      ]
    },
    {
      "cell_type": "code",
      "source": [
        "con.sql(\"\"\"\n",
        "\n",
        "SELECT COUNT(*) AS num_damaged_hospitals\n",
        "FROM gaza_buildings AS b\n",
        "JOIN damage_points AS d\n",
        "ON ST_Intersects(b.geom, d.geom)\n",
        "WHERE b.building = 'hospital';\n",
        "\n",
        "\"\"\")"
      ],
      "metadata": {
        "id": "aFquJP_gznun",
        "outputId": "e87838de-5317-48e0-c7bd-d898e0b9600c",
        "colab": {
          "base_uri": "https://localhost:8080/"
        }
      },
      "id": "aFquJP_gznun",
      "execution_count": 40,
      "outputs": [
        {
          "output_type": "execute_result",
          "data": {
            "text/plain": [
              "┌───────────────────────┐\n",
              "│ num_damaged_hospitals │\n",
              "│         int64         │\n",
              "├───────────────────────┤\n",
              "│                    34 │\n",
              "└───────────────────────┘"
            ]
          },
          "metadata": {},
          "execution_count": 40
        }
      ]
    },
    {
      "cell_type": "markdown",
      "id": "SIcc0Qf7Lbfg",
      "metadata": {
        "id": "SIcc0Qf7Lbfg"
      },
      "source": [
        "## Question 9\n",
        "\n",
        "The UNOSAT data contains a column called \"Governorat\" (shapefiles only allow column names of up to 10 characters). Calculate the number of damaged schools in each governorate."
      ]
    },
    {
      "cell_type": "code",
      "execution_count": 51,
      "id": "cEvYw6lLL4Hp",
      "metadata": {
        "colab": {
          "base_uri": "https://localhost:8080/"
        },
        "id": "cEvYw6lLL4Hp",
        "outputId": "c893d018-70e8-4050-cf69-a0138c1003f5"
      },
      "outputs": [
        {
          "output_type": "execute_result",
          "data": {
            "text/plain": [
              "┌───────────────┬─────────────────────┐\n",
              "│  Governorat   │ num_damaged_schools │\n",
              "│    varchar    │        int64        │\n",
              "├───────────────┼─────────────────────┤\n",
              "│ Gaza          │                  69 │\n",
              "│ North Gaza    │                  29 │\n",
              "│ Khan Yunis    │                  46 │\n",
              "│ Deir Al-Balah │                   6 │\n",
              "└───────────────┴─────────────────────┘"
            ]
          },
          "metadata": {},
          "execution_count": 51
        }
      ],
      "source": [
        "con.sql(\"\"\"\n",
        "\n",
        "SELECT Governorat, COUNT(*) AS num_damaged_schools\n",
        "FROM gaza_buildings AS b\n",
        "JOIN damage_points AS d\n",
        "ON ST_Intersects(b.geom, d.geom)\n",
        "WHERE b.building = 'school'\n",
        "GROUP BY \"Governorat\";\n",
        "\n",
        "\"\"\")"
      ]
    },
    {
      "cell_type": "markdown",
      "id": "yRUEI6lbwYgk",
      "metadata": {
        "id": "yRUEI6lbwYgk"
      },
      "source": [
        "## Question 10\n",
        "\n",
        "The \"Dar Al-Shifa Hospital\" was the largest medical complex in the gaza strip. Find the hospital's building footprint, and calculate the proportion of damaged buildings within 1 kilometer."
      ]
    },
    {
      "cell_type": "code",
      "source": [
        "con.sql(\"\"\"\n",
        "\n",
        "SELECT name,ST_AsText(geom)\n",
        "FROM gaza_buildings\n",
        "WHERE name = 'Dar Al-Shifa Hospital';\n",
        "\n",
        "\"\"\")"
      ],
      "metadata": {
        "id": "z2SuJyhL2hT8",
        "outputId": "f6adef61-bf37-440e-f768-113c4c2ab545",
        "colab": {
          "base_uri": "https://localhost:8080/"
        }
      },
      "id": "z2SuJyhL2hT8",
      "execution_count": 54,
      "outputs": [
        {
          "output_type": "execute_result",
          "data": {
            "text/plain": [
              "┌───────────────────────┬──────────────────────────────────────────────────────────────────────────────────────────────────────────────────────────────────────────────────────────────────────────────────────────────────────────────────────────────────────────────────────────────────────────────────────────────────────────────────────────────────────────────────────────────────────────────────────────────────────────────────────────────────────────────────────────────────────────────────────────────────────────────────────────────────────────────────────────────────────────────────────────────────────────────────────────────────────────────────────────────────────────────────────────────────────────────────────────────────────────────┐\n",
              "│         name          │                                                                                                                                                                                                                                                                                                                                                               st_astext(geom)                                                                                                                                                                                                                                                                                                                                                                │\n",
              "│        varchar        │                                                                                                                                                                                                                                                                                                                                                                   varchar                                                                                                                                                                                                                                                                                                                                                                    │\n",
              "├───────────────────────┼──────────────────────────────────────────────────────────────────────────────────────────────────────────────────────────────────────────────────────────────────────────────────────────────────────────────────────────────────────────────────────────────────────────────────────────────────────────────────────────────────────────────────────────────────────────────────────────────────────────────────────────────────────────────────────────────────────────────────────────────────────────────────────────────────────────────────────────────────────────────────────────────────────────────────────────────────────────────────────────────────────────────────────────────────────────────────────────────────────────────┤\n",
              "│ Dar Al-Shifa Hospital │ POLYGON ((34.4431088 31.5238996, 34.4433649 31.5237154, 34.4434647 31.5236754, 34.4435236 31.5237113, 34.4435691 31.523728, 34.443532 31.5238226, 34.4435147 31.5238241, 34.4435143 31.5238788, 34.4435033 31.5238903, 34.4435607 31.5239425, 34.4436761 31.5239248, 34.4437785 31.5240182, 34.4436617 31.5241291, 34.443741 31.5241361, 34.443786 31.52414, 34.4439107 31.5240469, 34.4439286 31.5240603, 34.4441548 31.5238869, 34.4441709 31.5239021, 34.4441915 31.5238862, 34.4441733 31.523869, 34.4442764 31.5237898, 34.4445204 31.5240205, 34.4440399 31.5243898, 34.4438119 31.5241742, 34.4437809 31.5241947, 34.4437621 31.5241762, 34.4437143 31.5241712, 34.4436223 31.5241615, 34.4435023 31.5242574, 34.4431088 31.5238996)) │\n",
              "└───────────────────────┴──────────────────────────────────────────────────────────────────────────────────────────────────────────────────────────────────────────────────────────────────────────────────────────────────────────────────────────────────────────────────────────────────────────────────────────────────────────────────────────────────────────────────────────────────────────────────────────────────────────────────────────────────────────────────────────────────────────────────────────────────────────────────────────────────────────────────────────────────────────────────────────────────────────────────────────────────────────────────────────────────────────────────────────────────────────────────────────────────────────────┘"
            ]
          },
          "metadata": {},
          "execution_count": 54
        }
      ]
    },
    {
      "cell_type": "code",
      "source": [
        "con.sql(\"\"\"\n",
        "\n",
        "SELECT COUNT(*)\n",
        "FROM gaza_buildings\n",
        "WHERE ST_DWithin(geom, 'POLYGON ((34.4431088 31.5238996, 34.4433649 31.5237154, 34.4434647 31.5236754, 34.4435236 31.5237113, 34.4435691 31.523728, 34.443532 31.5238226, 34.4435147 31.5238241, 34.4435143 31.5238788, 34.4435033 31.5238903, 34.4435607 31.5239425, 34.4436761 31.5239248, 34.4437785 31.5240182, 34.4436617 31.5241291, 34.443741 31.5241361, 34.443786 31.52414, 34.4439107 31.5240469, 34.4439286 31.5240603, 34.4441548 31.5238869, 34.4441709 31.5239021, 34.4441915 31.5238862, 34.4441733 31.523869, 34.4442764 31.5237898, 34.4445204 31.5240205, 34.4440399 31.5243898, 34.4438119 31.5241742, 34.4437809 31.5241947, 34.4437621 31.5241762, 34.4437143 31.5241712, 34.4436223 31.5241615, 34.4435023 31.5242574, 34.4431088 31.5238996))',1000)\n",
        "\n",
        "\n",
        "\"\"\")"
      ],
      "metadata": {
        "id": "hoAxpaJL2xxn",
        "outputId": "fd573194-48fd-4e38-8377-8b77566fefc5",
        "colab": {
          "base_uri": "https://localhost:8080/"
        }
      },
      "id": "hoAxpaJL2xxn",
      "execution_count": 57,
      "outputs": [
        {
          "output_type": "execute_result",
          "data": {
            "text/plain": [
              "┌──────────────┐\n",
              "│ count_star() │\n",
              "│    int64     │\n",
              "├──────────────┤\n",
              "│       335184 │\n",
              "└──────────────┘"
            ]
          },
          "metadata": {},
          "execution_count": 57
        }
      ]
    },
    {
      "cell_type": "code",
      "source": [
        "con.sql(\"\"\"\n",
        "\n",
        "SELECT COUNT(*)\n",
        "FROM gaza_buildings\n",
        "WHERE ST_DWithin(\n",
        "    ST_Transform(geom, 3857),  -- Convert building geometries to meters\n",
        "    ST_Transform(ST_GeomFromText(\n",
        "        'POLYGON ((34.4431088 31.5238996, 34.4433649 31.5237154, 34.4434647 31.5236754,\n",
        "        34.4435236 31.5237113, 34.4435691 31.523728, 34.443532 31.5238226,\n",
        "        34.4435147 31.5238241, 34.4435143 31.5238788, 34.4435033 31.5238903,\n",
        "        34.4435607 31.5239425, 34.4436761 31.5239248, 34.4437785 31.5240182,\n",
        "        34.4436617 31.5241291, 34.443741 31.5241361, 34.443786 31.52414,\n",
        "        34.4439107 31.5240469, 34.4439286 31.5240603, 34.4441548 31.5238869,\n",
        "        34.4441709 31.5239021, 34.4441915 31.5238862, 34.4441733 31.523869,\n",
        "        34.4442764 31.5237898, 34.4445204 31.5240205, 34.4440399 31.5243898,\n",
        "        34.4438119 31.5241742, 34.4437809 31.5241947, 34.4437621 31.5241762,\n",
        "        34.4437143 31.5241712, 34.4436223 31.5241615, 34.4435023 31.5242574,\n",
        "        34.4431088 31.5238996))', 4326), 3857),  -- Convert polygon to meters\n",
        "    1000  -- Now interpreted correctly as meters\n",
        ");\n",
        "\n",
        "\"\"\")\n"
      ],
      "metadata": {
        "id": "CVnFotzg3fpS",
        "outputId": "c927d863-7d5b-47e7-9696-f78db7fdc09d",
        "colab": {
          "base_uri": "https://localhost:8080/",
          "height": 358
        }
      },
      "id": "CVnFotzg3fpS",
      "execution_count": 58,
      "outputs": [
        {
          "output_type": "error",
          "ename": "BinderException",
          "evalue": "Binder Error: No function matches the given name and argument types 'ST_Transform(GEOMETRY, INTEGER_LITERAL)'. You might need to add explicit type casts.\n\tCandidate functions:\n\tST_Transform(BOX_2D, VARCHAR, VARCHAR) -> BOX_2D\n\tST_Transform(BOX_2D, VARCHAR, VARCHAR, BOOLEAN) -> BOX_2D\n\tST_Transform(POINT_2D, VARCHAR, VARCHAR) -> POINT_2D\n\tST_Transform(POINT_2D, VARCHAR, VARCHAR, BOOLEAN) -> POINT_2D\n\tST_Transform(GEOMETRY, VARCHAR, VARCHAR) -> GEOMETRY\n\tST_Transform(GEOMETRY, VARCHAR, VARCHAR, BOOLEAN) -> GEOMETRY\n",
          "traceback": [
            "\u001b[0;31m---------------------------------------------------------------------------\u001b[0m",
            "\u001b[0;31mBinderException\u001b[0m                           Traceback (most recent call last)",
            "\u001b[0;32m<ipython-input-58-8743c9930810>\u001b[0m in \u001b[0;36m<cell line: 0>\u001b[0;34m()\u001b[0m\n\u001b[0;32m----> 1\u001b[0;31m con.sql(\"\"\"\n\u001b[0m\u001b[1;32m      2\u001b[0m \u001b[0;34m\u001b[0m\u001b[0m\n\u001b[1;32m      3\u001b[0m \u001b[0mSELECT\u001b[0m \u001b[0mCOUNT\u001b[0m\u001b[0;34m(\u001b[0m\u001b[0;34m*\u001b[0m\u001b[0;34m)\u001b[0m\u001b[0;34m\u001b[0m\u001b[0;34m\u001b[0m\u001b[0m\n\u001b[1;32m      4\u001b[0m \u001b[0mFROM\u001b[0m \u001b[0mgaza_buildings\u001b[0m\u001b[0;34m\u001b[0m\u001b[0;34m\u001b[0m\u001b[0m\n\u001b[1;32m      5\u001b[0m WHERE ST_DWithin(\n",
            "\u001b[0;31mBinderException\u001b[0m: Binder Error: No function matches the given name and argument types 'ST_Transform(GEOMETRY, INTEGER_LITERAL)'. You might need to add explicit type casts.\n\tCandidate functions:\n\tST_Transform(BOX_2D, VARCHAR, VARCHAR) -> BOX_2D\n\tST_Transform(BOX_2D, VARCHAR, VARCHAR, BOOLEAN) -> BOX_2D\n\tST_Transform(POINT_2D, VARCHAR, VARCHAR) -> POINT_2D\n\tST_Transform(POINT_2D, VARCHAR, VARCHAR, BOOLEAN) -> POINT_2D\n\tST_Transform(GEOMETRY, VARCHAR, VARCHAR) -> GEOMETRY\n\tST_Transform(GEOMETRY, VARCHAR, VARCHAR, BOOLEAN) -> GEOMETRY\n"
          ]
        }
      ]
    }
  ],
  "metadata": {
    "colab": {
      "provenance": [],
      "include_colab_link": true
    },
    "kernelspec": {
      "display_name": "geo",
      "language": "python",
      "name": "python3"
    },
    "language_info": {
      "codemirror_mode": {
        "name": "ipython",
        "version": 3
      },
      "file_extension": ".py",
      "mimetype": "text/x-python",
      "name": "python",
      "nbconvert_exporter": "python",
      "pygments_lexer": "ipython3",
      "version": "3.9.20"
    },
    "widgets": {
      "application/vnd.jupyter.widget-state+json": {
        "089b0edac7924e44b26aea7f9c06fbf9": {
          "model_module": "@jupyter-widgets/controls",
          "model_name": "FloatProgressModel",
          "model_module_version": "1.5.0",
          "state": {
            "_dom_classes": [],
            "_model_module": "@jupyter-widgets/controls",
            "_model_module_version": "1.5.0",
            "_model_name": "FloatProgressModel",
            "_view_count": null,
            "_view_module": "@jupyter-widgets/controls",
            "_view_module_version": "1.5.0",
            "_view_name": "ProgressView",
            "bar_style": "",
            "description": "",
            "description_tooltip": null,
            "layout": "IPY_MODEL_9b9956eac46e4ad0b27064e8dac24529",
            "max": 100,
            "min": 0,
            "orientation": "horizontal",
            "style": "IPY_MODEL_4b46796837fc42f983704a7781d09fe4",
            "value": 100
          }
        },
        "9b9956eac46e4ad0b27064e8dac24529": {
          "model_module": "@jupyter-widgets/base",
          "model_name": "LayoutModel",
          "model_module_version": "1.2.0",
          "state": {
            "_model_module": "@jupyter-widgets/base",
            "_model_module_version": "1.2.0",
            "_model_name": "LayoutModel",
            "_view_count": null,
            "_view_module": "@jupyter-widgets/base",
            "_view_module_version": "1.2.0",
            "_view_name": "LayoutView",
            "align_content": null,
            "align_items": null,
            "align_self": null,
            "border": null,
            "bottom": null,
            "display": null,
            "flex": null,
            "flex_flow": null,
            "grid_area": null,
            "grid_auto_columns": null,
            "grid_auto_flow": null,
            "grid_auto_rows": null,
            "grid_column": null,
            "grid_gap": null,
            "grid_row": null,
            "grid_template_areas": null,
            "grid_template_columns": null,
            "grid_template_rows": null,
            "height": null,
            "justify_content": null,
            "justify_items": null,
            "left": null,
            "margin": null,
            "max_height": null,
            "max_width": null,
            "min_height": null,
            "min_width": null,
            "object_fit": null,
            "object_position": null,
            "order": null,
            "overflow": null,
            "overflow_x": null,
            "overflow_y": null,
            "padding": null,
            "right": null,
            "top": null,
            "visibility": null,
            "width": "auto"
          }
        },
        "4b46796837fc42f983704a7781d09fe4": {
          "model_module": "@jupyter-widgets/controls",
          "model_name": "ProgressStyleModel",
          "model_module_version": "1.5.0",
          "state": {
            "_model_module": "@jupyter-widgets/controls",
            "_model_module_version": "1.5.0",
            "_model_name": "ProgressStyleModel",
            "_view_count": null,
            "_view_module": "@jupyter-widgets/base",
            "_view_module_version": "1.2.0",
            "_view_name": "StyleView",
            "bar_color": "black",
            "description_width": ""
          }
        },
        "c84ddf04666849ae93fefa737940ffe7": {
          "model_module": "@jupyter-widgets/controls",
          "model_name": "FloatProgressModel",
          "model_module_version": "1.5.0",
          "state": {
            "_dom_classes": [],
            "_model_module": "@jupyter-widgets/controls",
            "_model_module_version": "1.5.0",
            "_model_name": "FloatProgressModel",
            "_view_count": null,
            "_view_module": "@jupyter-widgets/controls",
            "_view_module_version": "1.5.0",
            "_view_name": "ProgressView",
            "bar_style": "",
            "description": "",
            "description_tooltip": null,
            "layout": "IPY_MODEL_fa70bcd9e5b74c45823562c9fc56fff4",
            "max": 100,
            "min": 0,
            "orientation": "horizontal",
            "style": "IPY_MODEL_29fb9763b45c419e8ae403b5ebde07d9",
            "value": 100
          }
        },
        "fa70bcd9e5b74c45823562c9fc56fff4": {
          "model_module": "@jupyter-widgets/base",
          "model_name": "LayoutModel",
          "model_module_version": "1.2.0",
          "state": {
            "_model_module": "@jupyter-widgets/base",
            "_model_module_version": "1.2.0",
            "_model_name": "LayoutModel",
            "_view_count": null,
            "_view_module": "@jupyter-widgets/base",
            "_view_module_version": "1.2.0",
            "_view_name": "LayoutView",
            "align_content": null,
            "align_items": null,
            "align_self": null,
            "border": null,
            "bottom": null,
            "display": null,
            "flex": null,
            "flex_flow": null,
            "grid_area": null,
            "grid_auto_columns": null,
            "grid_auto_flow": null,
            "grid_auto_rows": null,
            "grid_column": null,
            "grid_gap": null,
            "grid_row": null,
            "grid_template_areas": null,
            "grid_template_columns": null,
            "grid_template_rows": null,
            "height": null,
            "justify_content": null,
            "justify_items": null,
            "left": null,
            "margin": null,
            "max_height": null,
            "max_width": null,
            "min_height": null,
            "min_width": null,
            "object_fit": null,
            "object_position": null,
            "order": null,
            "overflow": null,
            "overflow_x": null,
            "overflow_y": null,
            "padding": null,
            "right": null,
            "top": null,
            "visibility": null,
            "width": "auto"
          }
        },
        "29fb9763b45c419e8ae403b5ebde07d9": {
          "model_module": "@jupyter-widgets/controls",
          "model_name": "ProgressStyleModel",
          "model_module_version": "1.5.0",
          "state": {
            "_model_module": "@jupyter-widgets/controls",
            "_model_module_version": "1.5.0",
            "_model_name": "ProgressStyleModel",
            "_view_count": null,
            "_view_module": "@jupyter-widgets/base",
            "_view_module_version": "1.2.0",
            "_view_name": "StyleView",
            "bar_color": "black",
            "description_width": ""
          }
        }
      }
    }
  },
  "nbformat": 4,
  "nbformat_minor": 5
}